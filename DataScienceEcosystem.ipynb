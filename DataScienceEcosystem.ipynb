{
 "cells": [
  {
   "cell_type": "markdown",
   "id": "2a7be37a-100f-45b9-a7b3-91ff1da7f3d9",
   "metadata": {},
   "source": [
    "# Data Science Tools and Ecosystem"
   ]
  },
  {
   "cell_type": "markdown",
   "id": "1384a709-bbc1-4e5d-ac2d-1094ede10003",
   "metadata": {},
   "source": [
    "In this notebook, Data Science Tools and Ecosystem are summarized."
   ]
  },
  {
   "cell_type": "markdown",
   "id": "33757a9d-08d4-4552-804c-69d91c0ec3e9",
   "metadata": {},
   "source": [
    "**Objectives**\n",
    "* List of popular languages used by Data Scientists\n",
    "* List of popular libraries used by Data Scientists\n",
    "* List of popular tools used by Data Scientists\n",
    "* Examples of Arithmetic Expressions"
   ]
  },
  {
   "cell_type": "markdown",
   "id": "2879b3a2-68ba-44e3-93c3-05bc31b7ed13",
   "metadata": {},
   "source": [
    "Some of the popular languages that Data Scientists use are:\n",
    "1. Python\n",
    "2. R\n",
    "3. SQL (Structured Query Language)"
   ]
  },
  {
   "cell_type": "markdown",
   "id": "d3ab0008-5d1e-4ec5-af28-33f14958b822",
   "metadata": {},
   "source": [
    "Some of the commonly used libraries used by Data Scientists include:\n",
    "1. Numpy\n",
    "2. Pandas\n",
    "3. Matplotlib"
   ]
  },
  {
   "cell_type": "markdown",
   "id": "bdf86cbd-79d2-4d61-b940-d192fbc390ef",
   "metadata": {},
   "source": [
    "|Data Science Tools|\n",
    ":------------------:\n",
    "R Studio\n",
    "Jupyter Notebooks\n",
    "Zeppelin Notebooks"
   ]
  },
  {
   "cell_type": "markdown",
   "id": "f965d9cd-59a6-4115-814b-e1ec33a4ee61",
   "metadata": {},
   "source": [
    "### Below are a few examples of evaluating arithmetic expressions in Python:"
   ]
  },
  {
   "cell_type": "code",
   "execution_count": 3,
   "id": "86aac9dd-7dab-4881-89e9-b94a65c7f236",
   "metadata": {
    "tags": []
   },
   "outputs": [
    {
     "data": {
      "text/plain": [
       "17"
      ]
     },
     "execution_count": 3,
     "metadata": {},
     "output_type": "execute_result"
    }
   ],
   "source": [
    "#This a simple arithmetic expression to mutiply then add integers\n",
    "(3*4)+5"
   ]
  },
  {
   "cell_type": "code",
   "execution_count": 4,
   "id": "bac41079-6be0-4fdd-994e-b978f76537c9",
   "metadata": {
    "tags": []
   },
   "outputs": [
    {
     "data": {
      "text/plain": [
       "3.3333333333333335"
      ]
     },
     "execution_count": 4,
     "metadata": {},
     "output_type": "execute_result"
    }
   ],
   "source": [
    "#This will convert 200 minutes to hours by diving by 60\n",
    "200/60"
   ]
  },
  {
   "cell_type": "markdown",
   "id": "8071c6ce-be72-461d-90f7-3d4ccbb3c5e3",
   "metadata": {},
   "source": [
    "## Author:\n",
    "Edward Njiru"
   ]
  },
  {
   "cell_type": "code",
   "execution_count": null,
   "id": "d8b01261-80a1-41d6-aa29-dd2d1d11a091",
   "metadata": {},
   "outputs": [],
   "source": []
  }
 ],
 "metadata": {
  "kernelspec": {
   "display_name": "Python",
   "language": "python",
   "name": "conda-env-python-py"
  },
  "language_info": {
   "codemirror_mode": {
    "name": "ipython",
    "version": 3
   },
   "file_extension": ".py",
   "mimetype": "text/x-python",
   "name": "python",
   "nbconvert_exporter": "python",
   "pygments_lexer": "ipython3",
   "version": "3.7.12"
  }
 },
 "nbformat": 4,
 "nbformat_minor": 5
}
